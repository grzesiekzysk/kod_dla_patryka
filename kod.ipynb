{
 "cells": [
  {
   "cell_type": "code",
   "execution_count": 96,
   "id": "2214ad35-d900-4a61-9ba9-691fbac08855",
   "metadata": {},
   "outputs": [],
   "source": [
    "import pandas as pd\n",
    "from datetime import datetime, timedelta\n",
    "\n",
    "df = pd.read_excel(\n",
    "    'test.xlsx',\n",
    "    dtype={'data':str}\n",
    ")"
   ]
  },
  {
   "cell_type": "code",
   "execution_count": 33,
   "id": "ce67f4a6-4303-406e-9597-e857dee8b267",
   "metadata": {},
   "outputs": [
    {
     "data": {
      "text/html": [
       "<div>\n",
       "<style scoped>\n",
       "    .dataframe tbody tr th:only-of-type {\n",
       "        vertical-align: middle;\n",
       "    }\n",
       "\n",
       "    .dataframe tbody tr th {\n",
       "        vertical-align: top;\n",
       "    }\n",
       "\n",
       "    .dataframe thead th {\n",
       "        text-align: right;\n",
       "    }\n",
       "</style>\n",
       "<table border=\"1\" class=\"dataframe\">\n",
       "  <thead>\n",
       "    <tr style=\"text-align: right;\">\n",
       "      <th></th>\n",
       "      <th>data</th>\n",
       "      <th>relacja</th>\n",
       "    </tr>\n",
       "  </thead>\n",
       "  <tbody>\n",
       "    <tr>\n",
       "      <th>0</th>\n",
       "      <td>202101</td>\n",
       "      <td>1</td>\n",
       "    </tr>\n",
       "    <tr>\n",
       "      <th>1</th>\n",
       "      <td>202102</td>\n",
       "      <td>1</td>\n",
       "    </tr>\n",
       "    <tr>\n",
       "      <th>2</th>\n",
       "      <td>202103</td>\n",
       "      <td>1</td>\n",
       "    </tr>\n",
       "    <tr>\n",
       "      <th>3</th>\n",
       "      <td>202104</td>\n",
       "      <td>1</td>\n",
       "    </tr>\n",
       "    <tr>\n",
       "      <th>4</th>\n",
       "      <td>202105</td>\n",
       "      <td>1</td>\n",
       "    </tr>\n",
       "  </tbody>\n",
       "</table>\n",
       "</div>"
      ],
      "text/plain": [
       "     data  relacja\n",
       "0  202101        1\n",
       "1  202102        1\n",
       "2  202103        1\n",
       "3  202104        1\n",
       "4  202105        1"
      ]
     },
     "execution_count": 33,
     "metadata": {},
     "output_type": "execute_result"
    }
   ],
   "source": [
    "df.head()"
   ]
  },
  {
   "cell_type": "code",
   "execution_count": 97,
   "id": "4d5df82e-ded6-4895-b54c-3b651b210330",
   "metadata": {},
   "outputs": [],
   "source": [
    "def month_back(date, n_months=1):\n",
    "    \n",
    "    date_temp = datetime.strptime(str(date), '%Y%m')\n",
    "    \n",
    "    for _ in range(n_months):\n",
    "        date_temp = date_temp - timedelta(days=1)\n",
    "        date_temp = datetime(date_temp.year, date_temp.month, 1)\n",
    "    \n",
    "    return date_temp.strftime('%Y%m')"
   ]
  },
  {
   "cell_type": "code",
   "execution_count": 117,
   "id": "6354310e-c239-4a09-a833-72d125ea1371",
   "metadata": {},
   "outputs": [
    {
     "data": {
      "text/plain": [
       "'202303'"
      ]
     },
     "execution_count": 117,
     "metadata": {},
     "output_type": "execute_result"
    }
   ],
   "source": [
    "def start_relacji(df_temp):\n",
    "    \n",
    "    df_temp = df_temp.copy()\n",
    "    # Tutaj możesz sobie dorzucić jakieś filtrowanie tego df-a\n",
    "    # i wrzucać warunki jako argumenty funkcji, np. handlowca czy coś\n",
    "    \n",
    "    for i in range(1, 4):\n",
    "    \n",
    "        df_temp[f'data_temp'] = df_temp['data'].apply(month_back, n_months=i)\n",
    "        \n",
    "        df_temp = (df_temp\n",
    "            .merge(\n",
    "                right=df_temp[['data','relacja']],\n",
    "                left_on='data_temp',\n",
    "                right_on='data',\n",
    "                how='left',\n",
    "                suffixes=['',f'_{i}m_back']\n",
    "            )\n",
    "            .drop(columns=[f'data_{i}m_back','data_temp'])\n",
    "        )\n",
    "        \n",
    "    con_1 = df_temp.relacja == 1\n",
    "    con_2 = df_temp.relacja_1m_back == 0\n",
    "    con_3 = df_temp.relacja_2m_back == 0\n",
    "    con_4 = df_temp.relacja_3m_back == 0\n",
    "    \n",
    "    return df_temp[con_1 & con_2 & con_3 & con_4].data.max()\n",
    "\n",
    "start_relacji(df)"
   ]
  }
 ],
 "metadata": {
  "kernelspec": {
   "display_name": "Python 3 (ipykernel)",
   "language": "python",
   "name": "python3"
  },
  "language_info": {
   "codemirror_mode": {
    "name": "ipython",
    "version": 3
   },
   "file_extension": ".py",
   "mimetype": "text/x-python",
   "name": "python",
   "nbconvert_exporter": "python",
   "pygments_lexer": "ipython3",
   "version": "3.9.13"
  }
 },
 "nbformat": 4,
 "nbformat_minor": 5
}
